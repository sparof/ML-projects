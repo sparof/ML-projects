{
  "nbformat": 4,
  "nbformat_minor": 0,
  "metadata": {
    "colab": {
      "provenance": []
    },
    "kernelspec": {
      "name": "python3",
      "display_name": "Python 3"
    },
    "language_info": {
      "name": "python"
    }
  },
  "cells": [
    {
      "cell_type": "code",
      "execution_count": 18,
      "metadata": {
        "id": "DEvFmHQecFOC"
      },
      "outputs": [],
      "source": [
        "import matplotlib.pyplot as plt\n",
        "from sklearn import datasets\n",
        "import random\n",
        "import numpy as np\n",
        "import math\n",
        "import pandas as pd\n",
        "import seaborn as sns\n",
        "from sklearn.preprocessing import OneHotEncoder\n",
        "from scipy.spatial import distance\n",
        "Iris = sns.load_dataset(\"iris\")"
      ]
    },
    {
      "cell_type": "code",
      "source": [
        "class KNN:\n",
        "  def __init__(self, features , targets ,queryData, K = 1 ,typeOfDistance = 0  ):\n",
        "    self.K = K\n",
        "    self.features = features\n",
        "    self.targets = targets\n",
        "    self.typeOfDistance = typeOfDistance\n",
        "    self.queryData = queryData\n",
        "    \n",
        "\n",
        "  def predictClassOfQueryData(self):\n",
        "    KNN = np.ones((3,self.K)) * math.inf\n",
        "    for i in range(self.features.shape[0]):\n",
        "      self.updateKNN(KNN , self.features[i] ,i)\n",
        "    return {'distances':KNN[0] ,'indexInDataset':KNN[1],'classes':KNN[2], 'popular class':self.findClass(KNN[2])}\n",
        "\n",
        "\n",
        "  def findClass(self,classOfNN):\n",
        "    counts = np.bincount(classOfNN.astype(int))\n",
        "    return np.argmax(counts)\n",
        "\n",
        "\n",
        "  def updateKNN(self , KNN , row , indexOfRow):\n",
        "    indexOfMaxDistance = np.argmax(KNN[0])\n",
        "    distance = self.computeDistance(row)\n",
        "    if distance < KNN[0,indexOfMaxDistance] :\n",
        "      KNN.T[indexOfMaxDistance] = distance , indexOfRow , self.targets[indexOfRow]\n",
        "\n",
        "  def computeDistance(self , row):\n",
        "    if (self.typeOfDistance == 0 ):\n",
        "      return distance.euclidean(row,self.queryData)\n",
        "    if (self.typeOfDistance == 1):\n",
        "      return distance.cdist([row],[self.queryData], metric='cityblock')[0,0]\n",
        "    if (self.typeOfDistance == 2):\n",
        "      return distance.cosine(row,self.queryData )\n",
        "\n",
        "\n",
        "def leave_one_out_cross_validation_for_KNN( features , targets , K , distanceType):\n",
        "  y_pred=[]\n",
        "  for i in range(features.shape[0]):\n",
        "    model = KNN(features[np.arange(len(features))!=i],targets[np.arange(len(targets))!=i],features[i] ,K , distanceType )\n",
        "    a = model.predictClassOfQueryData()\n",
        "    y_pred.append(a['popular class'])\n",
        "  return y_pred\n",
        "\n",
        "    \n",
        "\n",
        "\n"
      ],
      "metadata": {
        "id": "ZhvSB68RjPf8"
      },
      "execution_count": 19,
      "outputs": []
    },
    {
      "cell_type": "code",
      "source": [
        "iris = datasets.load_iris()\n",
        "features = iris.data  \n",
        "target = iris.target\n",
        "dataset = np.hstack(( features,target.reshape(-1,1)))\n",
        "dataset.shape\n",
        "#---------------shuffle---------------------\n",
        "from sklearn.utils import shuffle\n",
        "dataset=shuffle(dataset)\n",
        "dataset.shape\n",
        "\n",
        "\n"
      ],
      "metadata": {
        "colab": {
          "base_uri": "https://localhost:8080/"
        },
        "id": "d7-6uAfKlJfV",
        "outputId": "a4defe27-9ed8-4b2e-c3fe-a328884f6bb0"
      },
      "execution_count": 20,
      "outputs": [
        {
          "output_type": "execute_result",
          "data": {
            "text/plain": [
              "(150, 5)"
            ]
          },
          "metadata": {},
          "execution_count": 20
        }
      ]
    },
    {
      "cell_type": "code",
      "source": [
        "y_pred = leave_one_out_cross_validation_for_KNN(dataset[:,0:4], dataset[:,4],K=20,distanceType=1 )"
      ],
      "metadata": {
        "id": "jM8O-GyaTxiI"
      },
      "execution_count": 21,
      "outputs": []
    },
    {
      "cell_type": "code",
      "source": [
        "from sklearn.metrics import confusion_matrix\n",
        "y_true = dataset[:,4].T\n",
        "cm = confusion_matrix(y_true, y_pred)\n"
      ],
      "metadata": {
        "id": "7f8bZ39DiR8B"
      },
      "execution_count": 22,
      "outputs": []
    },
    {
      "cell_type": "code",
      "source": [
        "df_cm = pd.DataFrame(cm,['Iris Setosa','Iris Versicolour','Iris Virginica'],['Iris Setosa','Iris Versicolour','Iris Virginica'])\n",
        "plt.figure(figsize = (10,8))\n",
        "sns.heatmap(df_cm, annot=True)\n",
        "\n",
        "true = np.diag(cm)\n",
        "\n",
        "accuracy = np.sum(true)/np.sum(cm)\n",
        "\n",
        "print(str(accuracy)+' % \\n\\n\\n')"
      ],
      "metadata": {
        "colab": {
          "base_uri": "https://localhost:8080/",
          "height": 556
        },
        "id": "-GR9-fjys47W",
        "outputId": "f3e6a684-202c-44e9-e559-76758a9fce5d"
      },
      "execution_count": 23,
      "outputs": [
        {
          "output_type": "stream",
          "name": "stdout",
          "text": [
            "0.9733333333333334 % \n",
            "\n",
            "\n",
            "\n"
          ]
        },
        {
          "output_type": "display_data",
          "data": {
            "text/plain": [
              "<Figure size 720x576 with 2 Axes>"
            ],
            "image/png": "[encoded data removed]"
          },
          "metadata": {}
        }
      ]
    },
    {
      "cell_type": "code",
      "source": [
        "accs = []\n",
        "for i in range(1,120,5):\n",
        "  y_pred = leave_one_out_cross_validation_for_KNN(dataset[:,0:4], dataset[:,4],K=i,distanceType=2 )\n",
        "  y_true = dataset[:,4].T\n",
        "  cm = confusion_matrix(y_true, y_pred)\n",
        "  true = np.diag(cm)\n",
        "  accuracy = np.sum(true)/np.sum(cm)\n",
        "  accs.append(accuracy)\n",
        "sns.set_style(\"darkgrid\")\n",
        "plt.figure(figsize = (24,8))\n",
        "plt.plot(range(1,120,5), accs , marker = '*')\n",
        "plt.xlabel(\"K\")\n",
        "plt.ylabel(\"accuracy\")\n",
        "plt.grid()\n",
        "plt.show()\n"
      ],
      "metadata": {
        "colab": {
          "base_uri": "https://localhost:8080/",
          "height": 457
        },
        "id": "tsprpuHM5A8s",
        "outputId": "752a2292-b0d9-439f-feb8-a9c454b0c416"
      },
      "execution_count": 16,
      "outputs": [
        {
          "output_type": "display_data",
          "data": {
            "text/plain": [
              "<Figure size 1728x576 with 1 Axes>"
            ],
            "image/png": "[encoded data removed]"
          },
          "metadata": {}
        }
      ]
    },
    {
      "cell_type": "code",
      "source": [],
      "metadata": {
        "id": "-eBidLQEzPPK"
      },
      "execution_count": null,
      "outputs": []
    }
  ]
}