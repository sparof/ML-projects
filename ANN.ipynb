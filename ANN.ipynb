{
  "cells": [
    {
      "cell_type": "code",
      "execution_count": 169,
      "id": "d844620d",
      "metadata": {
        "id": "d844620d"
      },
      "outputs": [],
      "source": [
        "import numpy as np\n",
        "from typing import List, Union\n",
        "from sklearn.datasets import load_iris\n",
        "from sklearn.model_selection import train_test_split\n",
        "import matplotlib.pyplot as plt\n",
        "from tqdm.notebook import tqdm"
      ]
    },
    {
      "cell_type": "markdown",
      "id": "dd71b762",
      "metadata": {
        "id": "dd71b762"
      },
      "source": [
        "## Data"
      ]
    },
    {
      "cell_type": "code",
      "execution_count": 170,
      "id": "d8146d60",
      "metadata": {
        "colab": {
          "base_uri": "https://localhost:8080/"
        },
        "id": "d8146d60",
        "outputId": "9afe859a-df64-4031-aa50-3735e9e54992"
      },
      "outputs": [
        {
          "output_type": "execute_result",
          "data": {
            "text/plain": [
              "((150, 4), (150,))"
            ]
          },
          "metadata": {},
          "execution_count": 170
        }
      ],
      "source": [
        "X, Y = load_iris(return_X_y=True)\n",
        "X.shape, Y.shape"
      ]
    },
    {
      "cell_type": "code",
      "execution_count": 171,
      "id": "e9aa2046",
      "metadata": {
        "colab": {
          "base_uri": "https://localhost:8080/"
        },
        "id": "e9aa2046",
        "outputId": "60457d2b-3abd-4110-e2a5-deabf2d8ca9c"
      },
      "outputs": [
        {
          "output_type": "execute_result",
          "data": {
            "text/plain": [
              "array([[1., 0., 0.],\n",
              "       [1., 0., 0.],\n",
              "       [1., 0., 0.],\n",
              "       [1., 0., 0.],\n",
              "       [1., 0., 0.],\n",
              "       [1., 0., 0.],\n",
              "       [1., 0., 0.],\n",
              "       [1., 0., 0.],\n",
              "       [1., 0., 0.],\n",
              "       [1., 0., 0.],\n",
              "       [1., 0., 0.],\n",
              "       [1., 0., 0.],\n",
              "       [1., 0., 0.],\n",
              "       [1., 0., 0.],\n",
              "       [1., 0., 0.],\n",
              "       [1., 0., 0.],\n",
              "       [1., 0., 0.],\n",
              "       [1., 0., 0.],\n",
              "       [1., 0., 0.],\n",
              "       [1., 0., 0.],\n",
              "       [1., 0., 0.],\n",
              "       [1., 0., 0.],\n",
              "       [1., 0., 0.],\n",
              "       [1., 0., 0.],\n",
              "       [1., 0., 0.],\n",
              "       [1., 0., 0.],\n",
              "       [1., 0., 0.],\n",
              "       [1., 0., 0.],\n",
              "       [1., 0., 0.],\n",
              "       [1., 0., 0.],\n",
              "       [1., 0., 0.],\n",
              "       [1., 0., 0.],\n",
              "       [1., 0., 0.],\n",
              "       [1., 0., 0.],\n",
              "       [1., 0., 0.],\n",
              "       [1., 0., 0.],\n",
              "       [1., 0., 0.],\n",
              "       [1., 0., 0.],\n",
              "       [1., 0., 0.],\n",
              "       [1., 0., 0.],\n",
              "       [1., 0., 0.],\n",
              "       [1., 0., 0.],\n",
              "       [1., 0., 0.],\n",
              "       [1., 0., 0.],\n",
              "       [1., 0., 0.],\n",
              "       [1., 0., 0.],\n",
              "       [1., 0., 0.],\n",
              "       [1., 0., 0.],\n",
              "       [1., 0., 0.],\n",
              "       [1., 0., 0.],\n",
              "       [0., 1., 0.],\n",
              "       [0., 1., 0.],\n",
              "       [0., 1., 0.],\n",
              "       [0., 1., 0.],\n",
              "       [0., 1., 0.],\n",
              "       [0., 1., 0.],\n",
              "       [0., 1., 0.],\n",
              "       [0., 1., 0.],\n",
              "       [0., 1., 0.],\n",
              "       [0., 1., 0.],\n",
              "       [0., 1., 0.],\n",
              "       [0., 1., 0.],\n",
              "       [0., 1., 0.],\n",
              "       [0., 1., 0.],\n",
              "       [0., 1., 0.],\n",
              "       [0., 1., 0.],\n",
              "       [0., 1., 0.],\n",
              "       [0., 1., 0.],\n",
              "       [0., 1., 0.],\n",
              "       [0., 1., 0.],\n",
              "       [0., 1., 0.],\n",
              "       [0., 1., 0.],\n",
              "       [0., 1., 0.],\n",
              "       [0., 1., 0.],\n",
              "       [0., 1., 0.],\n",
              "       [0., 1., 0.],\n",
              "       [0., 1., 0.],\n",
              "       [0., 1., 0.],\n",
              "       [0., 1., 0.],\n",
              "       [0., 1., 0.],\n",
              "       [0., 1., 0.],\n",
              "       [0., 1., 0.],\n",
              "       [0., 1., 0.],\n",
              "       [0., 1., 0.],\n",
              "       [0., 1., 0.],\n",
              "       [0., 1., 0.],\n",
              "       [0., 1., 0.],\n",
              "       [0., 1., 0.],\n",
              "       [0., 1., 0.],\n",
              "       [0., 1., 0.],\n",
              "       [0., 1., 0.],\n",
              "       [0., 1., 0.],\n",
              "       [0., 1., 0.],\n",
              "       [0., 1., 0.],\n",
              "       [0., 1., 0.],\n",
              "       [0., 1., 0.],\n",
              "       [0., 1., 0.],\n",
              "       [0., 1., 0.],\n",
              "       [0., 1., 0.],\n",
              "       [0., 1., 0.],\n",
              "       [0., 0., 1.],\n",
              "       [0., 0., 1.],\n",
              "       [0., 0., 1.],\n",
              "       [0., 0., 1.],\n",
              "       [0., 0., 1.],\n",
              "       [0., 0., 1.],\n",
              "       [0., 0., 1.],\n",
              "       [0., 0., 1.],\n",
              "       [0., 0., 1.],\n",
              "       [0., 0., 1.],\n",
              "       [0., 0., 1.],\n",
              "       [0., 0., 1.],\n",
              "       [0., 0., 1.],\n",
              "       [0., 0., 1.],\n",
              "       [0., 0., 1.],\n",
              "       [0., 0., 1.],\n",
              "       [0., 0., 1.],\n",
              "       [0., 0., 1.],\n",
              "       [0., 0., 1.],\n",
              "       [0., 0., 1.],\n",
              "       [0., 0., 1.],\n",
              "       [0., 0., 1.],\n",
              "       [0., 0., 1.],\n",
              "       [0., 0., 1.],\n",
              "       [0., 0., 1.],\n",
              "       [0., 0., 1.],\n",
              "       [0., 0., 1.],\n",
              "       [0., 0., 1.],\n",
              "       [0., 0., 1.],\n",
              "       [0., 0., 1.],\n",
              "       [0., 0., 1.],\n",
              "       [0., 0., 1.],\n",
              "       [0., 0., 1.],\n",
              "       [0., 0., 1.],\n",
              "       [0., 0., 1.],\n",
              "       [0., 0., 1.],\n",
              "       [0., 0., 1.],\n",
              "       [0., 0., 1.],\n",
              "       [0., 0., 1.],\n",
              "       [0., 0., 1.],\n",
              "       [0., 0., 1.],\n",
              "       [0., 0., 1.],\n",
              "       [0., 0., 1.],\n",
              "       [0., 0., 1.],\n",
              "       [0., 0., 1.],\n",
              "       [0., 0., 1.],\n",
              "       [0., 0., 1.],\n",
              "       [0., 0., 1.],\n",
              "       [0., 0., 1.],\n",
              "       [0., 0., 1.]])"
            ]
          },
          "metadata": {},
          "execution_count": 171
        }
      ],
      "source": [
        "labels = np.eye(3)[Y]\n",
        "labels"
      ]
    },
    {
      "cell_type": "code",
      "execution_count": 172,
      "id": "761a84b2",
      "metadata": {
        "colab": {
          "base_uri": "https://localhost:8080/"
        },
        "id": "761a84b2",
        "outputId": "325f7cae-474b-4274-b35f-3129259197c9"
      },
      "outputs": [
        {
          "output_type": "execute_result",
          "data": {
            "text/plain": [
              "((120, 4), (30, 4), (120, 3), (30, 3))"
            ]
          },
          "metadata": {},
          "execution_count": 172
        }
      ],
      "source": [
        "X_train, X_test, y_train, y_test = train_test_split(X, labels, test_size=0.2, random_state=42)\n",
        "X_train.shape, X_test.shape, y_train.shape, y_test.shape"
      ]
    },
    {
      "cell_type": "markdown",
      "id": "fc7420f5",
      "metadata": {
        "id": "fc7420f5"
      },
      "source": [
        "## Model"
      ]
    },
    {
      "cell_type": "code",
      "execution_count": 173,
      "id": "f6ebea02",
      "metadata": {
        "id": "f6ebea02"
      },
      "outputs": [],
      "source": [
        "class Module:\n",
        "    def forward(self, X):\n",
        "        raise NotImplementedError\n",
        "        \n",
        "    def __call__(self, X):\n",
        "        return self.forward(X)\n",
        "    \n",
        "    def backward(self, X, grad):\n",
        "        raise NotImplementedError\n",
        "\n",
        "class Sigmoid(Module):\n",
        "    def forward(self, X):\n",
        "        return 1/(1 + np.exp(-X))\n",
        "    \n",
        "    def backward(self, X, grad):\n",
        "        z = self.forward(X)\n",
        "        return grad*z*(1 - z)\n",
        "    \n",
        "class Linear(Module):\n",
        "    def forward(self, X):\n",
        "        return X\n",
        "    def backward(self, X, grad):\n",
        "        return grad\n",
        "    \n",
        "class ReLU(Module):\n",
        "    def forward(self, X):\n",
        "        return np.maximum(X, 0)\n",
        "    def backward(self, X, grad): \n",
        "        grad_t = np.array(grad, copy = True)\n",
        "        grad_t[X <= 0] = 0\n",
        "        return grad_t\n",
        "        \n",
        "    \n",
        "class TanH(Module):\n",
        "    def forward(self, X):\n",
        "        return np.tanh(X)\n",
        "    \n",
        "    def backward(self, X, grad):\n",
        "        z = self.forward(X)\n",
        "        return grad* (1 - z**2)\n",
        "        \n",
        "def softmax(x, axis=0):\n",
        "    s = np.exp(x - x.max(axis=axis))\n",
        "    return s/s.sum(axis=axis)        "
      ]
    },
    {
      "cell_type": "code",
      "execution_count": 174,
      "id": "44c8a248",
      "metadata": {
        "id": "44c8a248"
      },
      "outputs": [],
      "source": [
        "#layer_implementation\n",
        "class Layer(Module):\n",
        "    def __init__(self, dim_in : int, dim_out : int, act : Module):\n",
        "        self.W = np.random.randn(dim_out, dim_in)\n",
        "        self.B = np.zeros(shape=(dim_out,1), dtype=float)\n",
        "        self.act = act\n",
        "        \n",
        "    def __str__(self):\n",
        "        return f'Layer(W={self.W}, B={self.B})'\n",
        "    \n",
        "    def __repr__(self):\n",
        "        return self.__str__()\n",
        "    \n",
        "    def forward(self, X):\n",
        "        o = self.act(self.W@X + self.B)\n",
        "        return o\n",
        "    \n",
        "    def backward(self, X : np.array, grad: np.array, lr : float):\n",
        "        h = self.forward(X)\n",
        "        m = h.shape[1]\n",
        "        grad = self.act.backward(h, grad)\n",
        "#         print('grad norm:' ,np.linalg.norm(grad))\n",
        "        grad_W = (1/(2*m)) * grad @ X.T\n",
        "        grad_B = (1/(2*m)) * np.sum(grad, axis=1, keepdims=True)\n",
        "        grad = self.W.T @ grad\n",
        "#         print('gradW:', grad_W.shape, 'gradB:', grad_B.shape, 'grad act:', grad.shape)\n",
        "        \n",
        "        self.W -= lr*grad_W\n",
        "        self.B -= lr*grad_B\n",
        "        return grad\n",
        "    \n",
        "    \n",
        "    \n",
        "class Model(Module):\n",
        "    def __init__(self, dims : List[int], acts : List[Module]):\n",
        "        self.layers = []\n",
        "        for i, dim in enumerate(dims[:-1]):\n",
        "            print(enumerate(dims[:-1]))\n",
        "            self.layers += [Layer(dim, dims[i+1], acts[i])]\n",
        "            \n",
        "    def __repr__(self):\n",
        "        return \"Model(\\n  \" + '\\n  '.join(map(str, self.layers)) + '\\n)'\n",
        "        \n",
        "    def forward(self, X : np.array):\n",
        "        h = self.layers[0](X)\n",
        "        for layer in self.layers[1:]:\n",
        "            h = layer(h)\n",
        "        return h\n",
        "    \n",
        "    def calc_metrics(self, y, preds):\n",
        "        probs = softmax(preds)\n",
        "        loss = np.mean(-np.sum(y.T*np.log(probs+1e-9), axis=0))\n",
        "        acc = np.mean(np.argmax(probs, axis=0) == np.argmax(y, axis=1))\n",
        "        return loss, acc\n",
        "    \n",
        "    def fit(self, X: np.array, y : np.array, lr: Union[float, List[float]]):\n",
        "        if isinstance(lr, float):\n",
        "            lr = [lr]*len(self.layers)\n",
        "        else:\n",
        "            assert len(lr) == len(self.layers), \"Please specify LR for each layer.\"\n",
        "            \n",
        "        vectors = [X.T]\n",
        "        for layer in self.layers:\n",
        "            vectors += [layer(vectors[-1])]\n",
        "            \n",
        "        probs = softmax(vectors[-1])\n",
        "        loss, acc = self.calc_metrics(y, vectors[-1])\n",
        "        \n",
        "        grad = probs - y.T\n",
        "        for i in range(len(self.layers) - 1, -1, -1):\n",
        "            grad = self.layers[i].backward(vectors[i], grad, lr[i])\n",
        "        \n",
        "        return loss, acc"
      ]
    },
    {
      "cell_type": "code",
      "execution_count": 176,
      "id": "6abcccca",
      "metadata": {
        "colab": {
          "base_uri": "https://localhost:8080/"
        },
        "id": "6abcccca",
        "outputId": "2e77913c-00a4-4d09-ed05-525fa17f5695"
      },
      "outputs": [
        {
          "output_type": "stream",
          "name": "stdout",
          "text": [
            "<enumerate object at 0x7f6da04056c0>\n",
            "<enumerate object at 0x7f6da04056c0>\n",
            "<enumerate object at 0x7f6da04056c0>\n"
          ]
        },
        {
          "output_type": "execute_result",
          "data": {
            "text/plain": [
              "Model(\n",
              "  Layer(W=[[ 1.03301967  0.42349953 -0.24075644  2.17641654]\n",
              " [ 0.09501571 -0.19458794  0.65731439  0.77943691]\n",
              " [ 0.49588207  0.00901067  0.93281448 -0.30103897]\n",
              " [ 0.68989587 -0.58363041 -2.18826131 -0.77546003]\n",
              " [-0.89170873  0.43279373 -0.36472926  0.20803958]], B=[[0.]\n",
              " [0.]\n",
              " [0.]\n",
              " [0.]\n",
              " [0.]])\n",
              "  Layer(W=[[-1.01577258  0.10322182  1.19323945  0.39501023 -0.23940333]\n",
              " [ 0.50008033 -1.8828114   0.24473965 -0.95236453  0.28602004]], B=[[0.]\n",
              " [0.]])\n",
              "  Layer(W=[[-0.40564402  1.29703794]\n",
              " [-1.94373679  1.55002248]\n",
              " [ 0.88647286  0.71715341]], B=[[0.]\n",
              " [0.]\n",
              " [0.]])\n",
              ")"
            ]
          },
          "metadata": {},
          "execution_count": 176
        }
      ],
      "source": [
        "model = Model(dims=[4,5,2,3], acts=[ReLU(), Sigmoid(), TanH()])\n",
        "model"
      ]
    },
    {
      "cell_type": "code",
      "execution_count": 177,
      "id": "06992dfe",
      "metadata": {
        "colab": {
          "base_uri": "https://localhost:8080/",
          "height": 84,
          "referenced_widgets": [
            "bdfeb68aa9f6466184e682e8c4fdaf64",
            "7874a3bda7b147bd8a17188d640c9908",
            "082b9f60c51f45649ca60b6fe72ca6f4",
            "8d9423816c0f45148263997698ace387",
            "ee2d855708a54a7c8f8c0155af7c84ec",
            "24aeea3647dd4fecbe066be93d9d4d69",
            "a962fbea14d340f085a5611d587f8cec",
            "8c603dc8193643d28cee129e032c4dcf",
            "34d4f3b281574defb61b8661a2d3412e",
            "0dc57b0957db4553a9865ef9ea8304b1",
            "d927890bbc4e40709a9397c5da515d11"
          ]
        },
        "id": "06992dfe",
        "outputId": "644ebc6d-73de-40bb-8611-547a73b29832"
      },
      "outputs": [
        {
          "output_type": "display_data",
          "data": {
            "text/plain": [
              "  0%|          | 0/2500 [00:00<?, ?it/s]"
            ],
            "application/vnd.jupyter.widget-view+json": {
              "version_major": 2,
              "version_minor": 0,
              "model_id": "bdfeb68aa9f6466184e682e8c4fdaf64"
            }
          },
          "metadata": {}
        },
        {
          "output_type": "stream",
          "name": "stderr",
          "text": [
            "<ipython-input-173-6fcbcb3c4c23>:13: RuntimeWarning: overflow encountered in exp\n",
            "  return 1/(1 + np.exp(-X))\n"
          ]
        }
      ],
      "source": [
        "train_losses = []\n",
        "test_losses = []\n",
        "\n",
        "train_accs = []\n",
        "test_accs = []\n",
        "\n",
        "for epoch in tqdm(range(2500)):\n",
        "    loss, acc = model.fit(X_train, y_train, lr=0.05)\n",
        "    train_losses += [loss]\n",
        "    train_accs += [acc]\n",
        "    \n",
        "    preds = model(X_test.T)\n",
        "    loss, acc = model.calc_metrics(y_test, preds)\n",
        "    test_losses += [loss]\n",
        "    test_accs += [acc]"
      ]
    },
    {
      "cell_type": "code",
      "execution_count": 178,
      "id": "c13cb08b",
      "metadata": {
        "colab": {
          "base_uri": "https://localhost:8080/",
          "height": 282
        },
        "id": "c13cb08b",
        "outputId": "1446fde6-6c12-4427-d927-bc887948c48c"
      },
      "outputs": [
        {
          "output_type": "execute_result",
          "data": {
            "text/plain": [
              "[<matplotlib.lines.Line2D at 0x7f6da03998e0>]"
            ]
          },
          "metadata": {},
          "execution_count": 178
        },
        {
          "output_type": "display_data",
          "data": {
            "text/plain": [
              "<Figure size 432x288 with 1 Axes>"
            ],
            "image/png": "[encoded data removed]"
          },
          "metadata": {
            "needs_background": "light"
          }
        }
      ],
      "source": [
        "plt.plot(train_losses,color='g')\n",
        "plt.plot(test_losses,color='r')"
      ]
    },
    {
      "cell_type": "code",
      "execution_count": 179,
      "id": "af9df54a",
      "metadata": {
        "colab": {
          "base_uri": "https://localhost:8080/",
          "height": 265
        },
        "id": "af9df54a",
        "outputId": "5a295f48-9e8b-41e5-f27b-677f9ee7f63a"
      },
      "outputs": [
        {
          "output_type": "display_data",
          "data": {
            "text/plain": [
              "<Figure size 432x288 with 1 Axes>"
            ],
            "image/png": "[encoded data removed]"
          },
          "metadata": {
            "needs_background": "light"
          }
        }
      ],
      "source": [
        "plt.plot(train_accs,color='g')\n",
        "plt.plot(test_accs,color='r')\n",
        "plt.show()"
      ]
    },
    {
      "cell_type": "code",
      "source": [
        "test_accs[-1]"
      ],
      "metadata": {
        "id": "SnEILE1VI2ur",
        "colab": {
          "base_uri": "https://localhost:8080/"
        },
        "outputId": "2ab7150e-5d67-4293-cddb-b2be259e1f08"
      },
      "id": "SnEILE1VI2ur",
      "execution_count": 180,
      "outputs": [
        {
          "output_type": "execute_result",
          "data": {
            "text/plain": [
              "0.6333333333333333"
            ]
          },
          "metadata": {},
          "execution_count": 180
        }
      ]
    },
    {
      "cell_type": "code",
      "source": [],
      "metadata": {
        "id": "B4uUAO0C8E91"
      },
      "id": "B4uUAO0C8E91",
      "execution_count": null,
      "outputs": []
    }
  ],
  "metadata": {
    "kernelspec": {
      "display_name": "Python 3 (ipykernel)",
      "language": "python",
      "name": "python3"
    },
    "language_info": {
      "codemirror_mode": {
        "name": "ipython",
        "version": 3
      },
      "file_extension": ".py",
      "mimetype": "text/x-python",
      "name": "python",
      "nbconvert_exporter": "python",
      "pygments_lexer": "ipython3",
      "version": "3.8.10"
    },
    "colab": {
      "provenance": []
    },
    "widgets": {
      "application/vnd.jupyter.widget-state+json": {
        "bdfeb68aa9f6466184e682e8c4fdaf64": {
          "model_module": "@jupyter-widgets/controls",
          "model_name": "HBoxModel",
          "model_module_version": "1.5.0",
          "state": {
            "_dom_classes": [],
            "_model_module": "@jupyter-widgets/controls",
            "_model_module_version": "1.5.0",
            "_model_name": "HBoxModel",
            "_view_count": null,
            "_view_module": "@jupyter-widgets/controls",
            "_view_module_version": "1.5.0",
            "_view_name": "HBoxView",
            "box_style": "",
            "children": [
              "IPY_MODEL_7874a3bda7b147bd8a17188d640c9908",
              "IPY_MODEL_082b9f60c51f45649ca60b6fe72ca6f4",
              "IPY_MODEL_8d9423816c0f45148263997698ace387"
            ],
            "layout": "IPY_MODEL_ee2d855708a54a7c8f8c0155af7c84ec"
          }
        },
        "7874a3bda7b147bd8a17188d640c9908": {
          "model_module": "@jupyter-widgets/controls",
          "model_name": "HTMLModel",
          "model_module_version": "1.5.0",
          "state": {
            "_dom_classes": [],
            "_model_module": "@jupyter-widgets/controls",
            "_model_module_version": "1.5.0",
            "_model_name": "HTMLModel",
            "_view_count": null,
            "_view_module": "@jupyter-widgets/controls",
            "_view_module_version": "1.5.0",
            "_view_name": "HTMLView",
            "description": "",
            "description_tooltip": null,
            "layout": "IPY_MODEL_24aeea3647dd4fecbe066be93d9d4d69",
            "placeholder": "​",
            "style": "IPY_MODEL_a962fbea14d340f085a5611d587f8cec",
            "value": "100%"
          }
        },
        "082b9f60c51f45649ca60b6fe72ca6f4": {
          "model_module": "@jupyter-widgets/controls",
          "model_name": "FloatProgressModel",
          "model_module_version": "1.5.0",
          "state": {
            "_dom_classes": [],
            "_model_module": "@jupyter-widgets/controls",
            "_model_module_version": "1.5.0",
            "_model_name": "FloatProgressModel",
            "_view_count": null,
            "_view_module": "@jupyter-widgets/controls",
            "_view_module_version": "1.5.0",
            "_view_name": "ProgressView",
            "bar_style": "success",
            "description": "",
            "description_tooltip": null,
            "layout": "IPY_MODEL_8c603dc8193643d28cee129e032c4dcf",
            "max": 2500,
            "min": 0,
            "orientation": "horizontal",
            "style": "IPY_MODEL_34d4f3b281574defb61b8661a2d3412e",
            "value": 2500
          }
        },
        "8d9423816c0f45148263997698ace387": {
          "model_module": "@jupyter-widgets/controls",
          "model_name": "HTMLModel",
          "model_module_version": "1.5.0",
          "state": {
            "_dom_classes": [],
            "_model_module": "@jupyter-widgets/controls",
            "_model_module_version": "1.5.0",
            "_model_name": "HTMLModel",
            "_view_count": null,
            "_view_module": "@jupyter-widgets/controls",
            "_view_module_version": "1.5.0",
            "_view_name": "HTMLView",
            "description": "",
            "description_tooltip": null,
            "layout": "IPY_MODEL_0dc57b0957db4553a9865ef9ea8304b1",
            "placeholder": "​",
            "style": "IPY_MODEL_d927890bbc4e40709a9397c5da515d11",
            "value": " 2500/2500 [00:01&lt;00:00, 2310.35it/s]"
          }
        },
        "ee2d855708a54a7c8f8c0155af7c84ec": {
          "model_module": "@jupyter-widgets/base",
          "model_name": "LayoutModel",
          "model_module_version": "1.2.0",
          "state": {
            "_model_module": "@jupyter-widgets/base",
            "_model_module_version": "1.2.0",
            "_model_name": "LayoutModel",
            "_view_count": null,
            "_view_module": "@jupyter-widgets/base",
            "_view_module_version": "1.2.0",
            "_view_name": "LayoutView",
            "align_content": null,
            "align_items": null,
            "align_self": null,
            "border": null,
            "bottom": null,
            "display": null,
            "flex": null,
            "flex_flow": null,
            "grid_area": null,
            "grid_auto_columns": null,
            "grid_auto_flow": null,
            "grid_auto_rows": null,
            "grid_column": null,
            "grid_gap": null,
            "grid_row": null,
            "grid_template_areas": null,
            "grid_template_columns": null,
            "grid_template_rows": null,
            "height": null,
            "justify_content": null,
            "justify_items": null,
            "left": null,
            "margin": null,
            "max_height": null,
            "max_width": null,
            "min_height": null,
            "min_width": null,
            "object_fit": null,
            "object_position": null,
            "order": null,
            "overflow": null,
            "overflow_x": null,
            "overflow_y": null,
            "padding": null,
            "right": null,
            "top": null,
            "visibility": null,
            "width": null
          }
        },
        "24aeea3647dd4fecbe066be93d9d4d69": {
          "model_module": "@jupyter-widgets/base",
          "model_name": "LayoutModel",
          "model_module_version": "1.2.0",
          "state": {
            "_model_module": "@jupyter-widgets/base",
            "_model_module_version": "1.2.0",
            "_model_name": "LayoutModel",
            "_view_count": null,
            "_view_module": "@jupyter-widgets/base",
            "_view_module_version": "1.2.0",
            "_view_name": "LayoutView",
            "align_content": null,
            "align_items": null,
            "align_self": null,
            "border": null,
            "bottom": null,
            "display": null,
            "flex": null,
            "flex_flow": null,
            "grid_area": null,
            "grid_auto_columns": null,
            "grid_auto_flow": null,
            "grid_auto_rows": null,
            "grid_column": null,
            "grid_gap": null,
            "grid_row": null,
            "grid_template_areas": null,
            "grid_template_columns": null,
            "grid_template_rows": null,
            "height": null,
            "justify_content": null,
            "justify_items": null,
            "left": null,
            "margin": null,
            "max_height": null,
            "max_width": null,
            "min_height": null,
            "min_width": null,
            "object_fit": null,
            "object_position": null,
            "order": null,
            "overflow": null,
            "overflow_x": null,
            "overflow_y": null,
            "padding": null,
            "right": null,
            "top": null,
            "visibility": null,
            "width": null
          }
        },
        "a962fbea14d340f085a5611d587f8cec": {
          "model_module": "@jupyter-widgets/controls",
          "model_name": "DescriptionStyleModel",
          "model_module_version": "1.5.0",
          "state": {
            "_model_module": "@jupyter-widgets/controls",
            "_model_module_version": "1.5.0",
            "_model_name": "DescriptionStyleModel",
            "_view_count": null,
            "_view_module": "@jupyter-widgets/base",
            "_view_module_version": "1.2.0",
            "_view_name": "StyleView",
            "description_width": ""
          }
        },
        "8c603dc8193643d28cee129e032c4dcf": {
          "model_module": "@jupyter-widgets/base",
          "model_name": "LayoutModel",
          "model_module_version": "1.2.0",
          "state": {
            "_model_module": "@jupyter-widgets/base",
            "_model_module_version": "1.2.0",
            "_model_name": "LayoutModel",
            "_view_count": null,
            "_view_module": "@jupyter-widgets/base",
            "_view_module_version": "1.2.0",
            "_view_name": "LayoutView",
            "align_content": null,
            "align_items": null,
            "align_self": null,
            "border": null,
            "bottom": null,
            "display": null,
            "flex": null,
            "flex_flow": null,
            "grid_area": null,
            "grid_auto_columns": null,
            "grid_auto_flow": null,
            "grid_auto_rows": null,
            "grid_column": null,
            "grid_gap": null,
            "grid_row": null,
            "grid_template_areas": null,
            "grid_template_columns": null,
            "grid_template_rows": null,
            "height": null,
            "justify_content": null,
            "justify_items": null,
            "left": null,
            "margin": null,
            "max_height": null,
            "max_width": null,
            "min_height": null,
            "min_width": null,
            "object_fit": null,
            "object_position": null,
            "order": null,
            "overflow": null,
            "overflow_x": null,
            "overflow_y": null,
            "padding": null,
            "right": null,
            "top": null,
            "visibility": null,
            "width": null
          }
        },
        "34d4f3b281574defb61b8661a2d3412e": {
          "model_module": "@jupyter-widgets/controls",
          "model_name": "ProgressStyleModel",
          "model_module_version": "1.5.0",
          "state": {
            "_model_module": "@jupyter-widgets/controls",
            "_model_module_version": "1.5.0",
            "_model_name": "ProgressStyleModel",
            "_view_count": null,
            "_view_module": "@jupyter-widgets/base",
            "_view_module_version": "1.2.0",
            "_view_name": "StyleView",
            "bar_color": null,
            "description_width": ""
          }
        },
        "0dc57b0957db4553a9865ef9ea8304b1": {
          "model_module": "@jupyter-widgets/base",
          "model_name": "LayoutModel",
          "model_module_version": "1.2.0",
          "state": {
            "_model_module": "@jupyter-widgets/base",
            "_model_module_version": "1.2.0",
            "_model_name": "LayoutModel",
            "_view_count": null,
            "_view_module": "@jupyter-widgets/base",
            "_view_module_version": "1.2.0",
            "_view_name": "LayoutView",
            "align_content": null,
            "align_items": null,
            "align_self": null,
            "border": null,
            "bottom": null,
            "display": null,
            "flex": null,
            "flex_flow": null,
            "grid_area": null,
            "grid_auto_columns": null,
            "grid_auto_flow": null,
            "grid_auto_rows": null,
            "grid_column": null,
            "grid_gap": null,
            "grid_row": null,
            "grid_template_areas": null,
            "grid_template_columns": null,
            "grid_template_rows": null,
            "height": null,
            "justify_content": null,
            "justify_items": null,
            "left": null,
            "margin": null,
            "max_height": null,
            "max_width": null,
            "min_height": null,
            "min_width": null,
            "object_fit": null,
            "object_position": null,
            "order": null,
            "overflow": null,
            "overflow_x": null,
            "overflow_y": null,
            "padding": null,
            "right": null,
            "top": null,
            "visibility": null,
            "width": null
          }
        },
        "d927890bbc4e40709a9397c5da515d11": {
          "model_module": "@jupyter-widgets/controls",
          "model_name": "DescriptionStyleModel",
          "model_module_version": "1.5.0",
          "state": {
            "_model_module": "@jupyter-widgets/controls",
            "_model_module_version": "1.5.0",
            "_model_name": "DescriptionStyleModel",
            "_view_count": null,
            "_view_module": "@jupyter-widgets/base",
            "_view_module_version": "1.2.0",
            "_view_name": "StyleView",
            "description_width": ""
          }
        }
      }
    }
  },
  "nbformat": 4,
  "nbformat_minor": 5
}