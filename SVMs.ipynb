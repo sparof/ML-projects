{
  "nbformat": 4,
  "nbformat_minor": 0,
  "metadata": {
    "colab": {
      "provenance": []
    },
    "kernelspec": {
      "name": "python3",
      "display_name": "Python 3"
    },
    "language_info": {
      "name": "python"
    }
  },
  "cells": [
    {
      "cell_type": "code",
      "execution_count": 7,
      "metadata": {
        "id": "2_V-O4C-JHP4"
      },
      "outputs": [],
      "source": [
        "import numpy as np\n",
        "import pandas as pd\n",
        "from sklearn import datasets\n",
        "import seaborn as sns\n",
        "from sklearn.model_selection import train_test_split\n",
        "from sklearn.metrics import accuracy_score\n",
        "import matplotlib.pyplot as plt\n",
        "iris= datasets.load_iris()"
      ]
    },
    {
      "cell_type": "code",
      "source": [
        "Iris = pd.DataFrame(data= np.c_[iris['data'], iris['target']],\n",
        "                     columns= iris['feature_names'] + ['target'])\n",
        "\n",
        "X = Iris.iloc[:, :-1].values\n",
        "Y = Iris.iloc[:, -1].values.reshape(-1,1)\n",
        "X_train, X_test, Y_train, Y_test = train_test_split(X, Y, test_size=.2, random_state=41)"
      ],
      "metadata": {
        "id": "MCiu9TLkJMXf"
      },
      "execution_count": 8,
      "outputs": []
    },
    {
      "cell_type": "code",
      "source": [
        "#SVM implementation\n",
        "\n",
        "from sklearn.svm import SVC\n",
        "from sklearn.preprocessing import StandardScaler\n",
        "from sklearn.svm import SVC\n",
        "from sklearn.metrics import confusion_matrix\n",
        "\n",
        "sc = StandardScaler()\n",
        "X_train = sc.fit_transform(X_train)\n",
        "X_test = sc.transform(X_test)\n",
        "\n",
        "svcclassifier_lin = SVC(kernel = 'linear', random_state = 0)\n",
        "svcclassifier_lin.fit(X_train, Y_train)\n",
        "\n",
        "Y_pred = svcclassifier_lin.predict(X_test)\n",
        "\n",
        "#y_compare = np.vstack((Y_test,Y_pred)).T\n",
        "cm = confusion_matrix(Y_test, Y_pred)\n",
        "\n",
        "a = cm.shape\n",
        "corrPred = 0\n",
        "falsePred = 0\n",
        "\n",
        "for row in range(a[0]):\n",
        "    for c in range(a[1]):\n",
        "        if row == c:\n",
        "            corrPred +=cm[row,c]\n",
        "        else:\n",
        "            falsePred += cm[row,c]\n",
        "print('Correct predictions: ', corrPred)\n",
        "print('False predictions', falsePred)\n",
        "kernelLinearAccuracy = corrPred/(cm.sum())\n",
        "print ('Accuracy of the SVC Clasification is: ', corrPred/(cm.sum()))"
      ],
      "metadata": {
        "colab": {
          "base_uri": "https://localhost:8080/"
        },
        "id": "En5C2GYFJQ_n",
        "outputId": "874fc3e1-6ebf-4351-ccd6-241a38ea32c4"
      },
      "execution_count": 9,
      "outputs": [
        {
          "output_type": "stream",
          "name": "stdout",
          "text": [
            "Correct predictions:  27\n",
            "False predictions 3\n",
            "Accuracy of the SVC Clasification is:  0.9\n"
          ]
        },
        {
          "output_type": "stream",
          "name": "stderr",
          "text": [
            "/usr/local/lib/python3.8/dist-packages/sklearn/utils/validation.py:993: DataConversionWarning: A column-vector y was passed when a 1d array was expected. Please change the shape of y to (n_samples, ), for example using ravel().\n",
            "  y = column_or_1d(y, warn=True)\n"
          ]
        }
      ]
    },
    {
      "cell_type": "code",
      "source": [
        "df_cm = pd.DataFrame(cm,['Iris Setosa','Iris Versicolour','Iris Virginica'],['Iris Setosa','Iris Versicolour','Iris Virginica'])\n",
        "plt.figure(figsize = (10,8))\n",
        "sns.heatmap(df_cm, annot=True)\n",
        "\n",
        "true = np.diag(cm)"
      ],
      "metadata": {
        "colab": {
          "base_uri": "https://localhost:8080/",
          "height": 487
        },
        "id": "JQu6nkW6OMgQ",
        "outputId": "2b37b302-7cdf-4a40-e368-028ab209f5ff"
      },
      "execution_count": 10,
      "outputs": [
        {
          "output_type": "display_data",
          "data": {
            "text/plain": [
              "<Figure size 720x576 with 2 Axes>"
            ],
            "image/png": "[encoded data removed]"
          },
          "metadata": {
            "needs_background": "light"
          }
        }
      ]
    },
    {
      "cell_type": "code",
      "source": [
        "svcclassifier_poly = SVC(kernel = 'poly', random_state = 0)\n",
        "svcclassifier_poly.fit(X_train, Y_train)\n",
        "\n",
        "Y_pred = svcclassifier_poly.predict(X_test)\n",
        "\n",
        "cm = confusion_matrix(Y_test, Y_pred)\n",
        "print(cm)\n",
        "\n",
        "#finding accuracy from the confusion matrix.\n",
        "a = cm.shape\n",
        "corrPred = 0\n",
        "falsePred = 0\n",
        "\n",
        "for row in range(a[0]):\n",
        "    for c in range(a[1]):\n",
        "        if row == c:\n",
        "            corrPred +=cm[row,c]\n",
        "        else:\n",
        "            falsePred += cm[row,c]\n",
        "print('Correct predictions: ', corrPred)\n",
        "print('False predictions', falsePred)\n",
        "kernelPolyAccuracy = corrPred/(cm.sum())\n",
        "print ('Accuracy of the SVC Clasification is: ', corrPred/(cm.sum()))"
      ],
      "metadata": {
        "colab": {
          "base_uri": "https://localhost:8080/"
        },
        "id": "Ebj0QxAeKVCW",
        "outputId": "b0e08b16-f8d4-44d8-d7e0-72e93e6994d5"
      },
      "execution_count": 11,
      "outputs": [
        {
          "output_type": "stream",
          "name": "stdout",
          "text": [
            "[[ 9  0  0]\n",
            " [ 0 11  0]\n",
            " [ 0  4  6]]\n",
            "Correct predictions:  26\n",
            "False predictions 4\n",
            "Accuracy of the SVC Clasification is:  0.8666666666666667\n"
          ]
        },
        {
          "output_type": "stream",
          "name": "stderr",
          "text": [
            "/usr/local/lib/python3.8/dist-packages/sklearn/utils/validation.py:993: DataConversionWarning: A column-vector y was passed when a 1d array was expected. Please change the shape of y to (n_samples, ), for example using ravel().\n",
            "  y = column_or_1d(y, warn=True)\n"
          ]
        }
      ]
    },
    {
      "cell_type": "code",
      "source": [
        "df_cm = pd.DataFrame(cm,['Iris Setosa','Iris Versicolour','Iris Virginica'],['Iris Setosa','Iris Versicolour','Iris Virginica'])\n",
        "plt.figure(figsize = (10,8))\n",
        "sns.heatmap(df_cm, annot=True)\n",
        "\n",
        "true = np.diag(cm)"
      ],
      "metadata": {
        "colab": {
          "base_uri": "https://localhost:8080/",
          "height": 483
        },
        "id": "_tsWotSMOKnN",
        "outputId": "ce26c6d4-604f-4fd7-ed1b-ac2cd9f3db18"
      },
      "execution_count": 12,
      "outputs": [
        {
          "output_type": "display_data",
          "data": {
            "text/plain": [
              "<Figure size 720x576 with 2 Axes>"
            ],
            "image/png": "[encoded data removed]"
          },
          "metadata": {
            "needs_background": "light"
          }
        }
      ]
    },
    {
      "cell_type": "code",
      "source": [
        "svcclassifier_RBF = SVC(kernel = 'rbf', random_state = 0)\n",
        "svcclassifier_RBF.fit(X_train, Y_train)\n",
        "\n",
        "Y_pred = svcclassifier_RBF.predict(X_test)\n",
        "\n",
        "cm = confusion_matrix(Y_test, Y_pred)\n",
        "print(cm)\n",
        "\n",
        "#finding accuracy from the confusion matrix.\n",
        "a = cm.shape\n",
        "corrPred = 0\n",
        "falsePred = 0\n",
        "\n",
        "for row in range(a[0]):\n",
        "    for c in range(a[1]):\n",
        "        if row == c:\n",
        "            corrPred +=cm[row,c]\n",
        "        else:\n",
        "            falsePred += cm[row,c]\n",
        "print('Correct predictions: ', corrPred)\n",
        "print('False predictions', falsePred)\n",
        "kernelRbfAccuracy = corrPred/(cm.sum())\n",
        "print ('Accuracy of the SVC Clasification is: ', corrPred/(cm.sum()))"
      ],
      "metadata": {
        "colab": {
          "base_uri": "https://localhost:8080/"
        },
        "id": "mVFo-eFCKXYe",
        "outputId": "d3d78428-1dbd-45d1-e51e-66dfe2b87eb3"
      },
      "execution_count": 13,
      "outputs": [
        {
          "output_type": "stream",
          "name": "stdout",
          "text": [
            "[[ 9  0  0]\n",
            " [ 0 10  1]\n",
            " [ 0  2  8]]\n",
            "Correct predictions:  27\n",
            "False predictions 3\n",
            "Accuracy of the SVC Clasification is:  0.9\n"
          ]
        },
        {
          "output_type": "stream",
          "name": "stderr",
          "text": [
            "/usr/local/lib/python3.8/dist-packages/sklearn/utils/validation.py:993: DataConversionWarning: A column-vector y was passed when a 1d array was expected. Please change the shape of y to (n_samples, ), for example using ravel().\n",
            "  y = column_or_1d(y, warn=True)\n"
          ]
        }
      ]
    },
    {
      "cell_type": "code",
      "source": [
        "df_cm = pd.DataFrame(cm,['Iris Setosa','Iris Versicolour','Iris Virginica'],['Iris Setosa','Iris Versicolour','Iris Virginica'])\n",
        "plt.figure(figsize = (10,8))\n",
        "sns.heatmap(df_cm, annot=True)\n",
        "\n",
        "true = np.diag(cm)"
      ],
      "metadata": {
        "colab": {
          "base_uri": "https://localhost:8080/",
          "height": 487
        },
        "id": "NHr3mmM_KaDY",
        "outputId": "6fe769a8-25b7-4f91-eab7-c52bcf9ccacb"
      },
      "execution_count": 14,
      "outputs": [
        {
          "output_type": "display_data",
          "data": {
            "text/plain": [
              "<Figure size 720x576 with 2 Axes>"
            ],
            "image/png": "[encoded data removed]"
          },
          "metadata": {
            "needs_background": "light"
          }
        }
      ]
    },
    {
      "cell_type": "code",
      "source": [
        "plt.plot(['kernelLinearAccuracy','kernelPolyAccuracy','kernelRbfAccuracy','MLP','Decision Tree'],[kernelLinearAccuracy,kernelPolyAccuracy,kernelRbfAccuracy,0.87,0.93],'ro')"
      ],
      "metadata": {
        "colab": {
          "base_uri": "https://localhost:8080/",
          "height": 282
        },
        "id": "7-W6bkkfOBli",
        "outputId": "d5c685ea-f890-455e-a85d-9cf829e5a142"
      },
      "execution_count": 17,
      "outputs": [
        {
          "output_type": "execute_result",
          "data": {
            "text/plain": [
              "[<matplotlib.lines.Line2D at 0x7f995f251430>]"
            ]
          },
          "metadata": {},
          "execution_count": 17
        },
        {
          "output_type": "display_data",
          "data": {
            "text/plain": [
              "<Figure size 432x288 with 1 Axes>"
            ],
            "image/png": "[encoded data removed]"
          },
          "metadata": {
            "needs_background": "light"
          }
        }
      ]
    },
    {
      "cell_type": "code",
      "source": [],
      "metadata": {
        "id": "HIerXFbRPUpj"
      },
      "execution_count": null,
      "outputs": []
    }
  ]
}