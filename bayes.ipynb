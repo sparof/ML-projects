{
  "nbformat": 4,
  "nbformat_minor": 0,
  "metadata": {
    "colab": {
      "provenance": []
    },
    "kernelspec": {
      "name": "python3",
      "display_name": "Python 3"
    },
    "language_info": {
      "name": "python"
    }
  },
  "cells": [
    {
      "cell_type": "code",
      "execution_count": 1,
      "metadata": {
        "id": "VcAqv8BZh2cb"
      },
      "outputs": [],
      "source": [
        "import matplotlib.pyplot as plt\n",
        "from sklearn import datasets\n",
        "import random\n",
        "import numpy as np\n",
        "import math\n",
        "import pandas as pd\n",
        "import seaborn as sns\n",
        "from sklearn.preprocessing import OneHotEncoder\n",
        "from scipy.spatial import distance\n",
        "Iris = sns.load_dataset(\"iris\")"
      ]
    },
    {
      "cell_type": "code",
      "source": [
        "class GaussianNaiveBayes:\n",
        "  def __init__(self , features , targets):\n",
        "    self.features = features\n",
        "    self.targets = targets\n",
        "    self.gaussians = [ [ 0 for i in range(targets.shape[1]) ] for j in range(features.shape[1]) ]\n",
        "    \n",
        "\n",
        "  def fitModel(self):\n",
        "    for i in range(len(self.gaussians)):\n",
        "      for j in range(len(self.gaussians[0])):\n",
        "        featureTarget = np.hstack((self.features[:,i].reshape(-1,1) , self.targets[:,j].reshape(-1,1)))\n",
        "        self.gaussians[i][j] = gaussian(featureTarget[featureTarget[:,1]==1,:])\n",
        "\n",
        "\n",
        "  def predict(self , Qdata):\n",
        "    likelihood = np.zeros(self.targets.shape[1])\n",
        "    for i in range(likelihood.shape[0]):\n",
        "      likelihood[i] = np.log(np.count_nonzero(self.targets[:,i] == 1) / self.targets.shape[0])\n",
        "      for j in range(self.features.shape[1]):\n",
        "        likelihood[i] += np.log(self.gaussians[j][i].computeGaussianFunc(Qdata[j]))\n",
        "\n",
        "    return np.argmax(likelihood) , likelihood\n",
        "\n",
        "       \n",
        "\n",
        "\n",
        "class gaussian():\n",
        "  def __init__(self , featureTarget):\n",
        "    self.mean = np.mean(featureTarget, axis=0)[0]\n",
        "    self.std =  np.std(featureTarget, axis=0)[0]\n",
        "\n",
        "  def computeGaussianFunc(self , x):\n",
        "    return (math.exp((((x - self.mean)/self.std)**2)/(-2))) / (self.std * math.sqrt(2 * math.pi)) "
      ],
      "metadata": {
        "id": "yJM97E6VjQ9O"
      },
      "execution_count": 2,
      "outputs": []
    },
    {
      "cell_type": "code",
      "source": [
        "iris = datasets.load_iris()\n",
        "features = iris.data  \n",
        "target = iris.target\n",
        "target1 = pd.get_dummies(iris.target).to_numpy()\n",
        "dataset = np.hstack(( features,target1 ,target.reshape(-1,1)))\n",
        "dataset.shape\n",
        "#---------------shuffle---------------------\n",
        "from sklearn.utils import shuffle\n",
        "dataset=shuffle(dataset)\n",
        "dataset.shape\n",
        "\n",
        "#-------------test & train ---------------\n",
        "train=dataset[0:120,:]    \n",
        "test=dataset[120:,:]  \n",
        "test.shape                #(30, 7)\n",
        "train.shape              # (120, 7)"
      ],
      "metadata": {
        "colab": {
          "base_uri": "https://localhost:8080/"
        },
        "id": "9qxLgLyOmkIb",
        "outputId": "8425515b-ea31-451c-f9c8-9b6570713e55"
      },
      "execution_count": 3,
      "outputs": [
        {
          "output_type": "execute_result",
          "data": {
            "text/plain": [
              "(120, 8)"
            ]
          },
          "metadata": {},
          "execution_count": 3
        }
      ]
    },
    {
      "cell_type": "code",
      "source": [
        "A = GaussianNaiveBayes(train[:,0:4],train[:,4:7])\n",
        "A.fitModel()"
      ],
      "metadata": {
        "id": "UyIBm0q5C3ED"
      },
      "execution_count": 4,
      "outputs": []
    },
    {
      "cell_type": "code",
      "source": [
        "#--------acc on train data -------------------------\n",
        "y_pred=[]\n",
        "for i in range(train.shape[0]):\n",
        "  y_pred.append(A.predict(train[i,0:4])[0])\n",
        "\n",
        "\n",
        "from sklearn.metrics import confusion_matrix\n",
        "y_true = train[:,7].T\n",
        "cm = confusion_matrix(y_true, y_pred)\n",
        "\n",
        "\n",
        "df_cm = pd.DataFrame(cm,['Iris Setosa','Iris Versicolour','Iris Virginica'],['Iris Setosa','Iris Versicolour','Iris Virginica'])\n",
        "plt.figure(figsize = (10,8))\n",
        "sns.heatmap(df_cm, annot=True)\n",
        "\n",
        "\n",
        "true = np.diag(cm)\n",
        "accuricy = np.sum(true)/np.sum(cm)\n",
        "print(str(accuricy * 100)+' % ' , '\\n\\n')"
      ],
      "metadata": {
        "colab": {
          "base_uri": "https://localhost:8080/",
          "height": 535
        },
        "id": "IaG_uPQrE8ko",
        "outputId": "cb6d5fa2-bbb9-4ef9-8210-137b71d96444"
      },
      "execution_count": 5,
      "outputs": [
        {
          "output_type": "stream",
          "name": "stdout",
          "text": [
            "96.66666666666667 %  \n",
            "\n",
            "\n"
          ]
        },
        {
          "output_type": "display_data",
          "data": {
            "text/plain": [
              "<Figure size 720x576 with 2 Axes>"
            ],
            "image/png": "[encoded data removed]"
          },
          "metadata": {
            "needs_background": "light"
          }
        }
      ]
    },
    {
      "cell_type": "code",
      "source": [
        "#----------------test data------------------\n",
        "y_pred=[]\n",
        "for i in range(test.shape[0]):\n",
        "  y_pred.append(A.predict(test[i,0:4])[0])\n",
        "\n",
        "\n",
        "from sklearn.metrics import confusion_matrix\n",
        "y_true = test[:,7].T\n",
        "cm = confusion_matrix(y_true, y_pred)\n",
        "\n",
        "\n",
        "df_cm = pd.DataFrame(cm,['Iris Setosa','Iris Versicolour','Iris Virginica'],['Iris Setosa','Iris Versicolour','Iris Virginica'])\n",
        "plt.figure(figsize = (10,8))\n",
        "sns.heatmap(df_cm, annot=True)\n",
        "\n",
        "true = np.diag(cm)\n",
        "accuricy = np.sum(true)/np.sum(cm)\n",
        "print(str(accuricy * 100)+' % ' , '\\n\\n')"
      ],
      "metadata": {
        "id": "_yhLQCR2K8hA",
        "colab": {
          "base_uri": "https://localhost:8080/",
          "height": 535
        },
        "outputId": "b29ace49-69bd-4187-c803-4bc08ae7ef3c"
      },
      "execution_count": 6,
      "outputs": [
        {
          "output_type": "stream",
          "name": "stdout",
          "text": [
            "90.0 %  \n",
            "\n",
            "\n"
          ]
        },
        {
          "output_type": "display_data",
          "data": {
            "text/plain": [
              "<Figure size 720x576 with 2 Axes>"
            ],
            "image/png": "[encoded data removed]"
          },
          "metadata": {
            "needs_background": "light"
          }
        }
      ]
    },
    {
      "cell_type": "code",
      "source": [],
      "metadata": {
        "id": "8TkJOSk-TE0P"
      },
      "execution_count": null,
      "outputs": []
    }
  ]
}